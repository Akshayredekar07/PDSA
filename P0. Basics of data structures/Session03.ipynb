{
 "cells": [
  {
   "cell_type": "code",
   "execution_count": 7,
   "metadata": {},
   "outputs": [
    {
     "name": "stdout",
     "output_type": "stream",
     "text": [
      "110\n",
      "110\n",
      "110\n"
     ]
    }
   ],
   "source": [
    "def funv1(L):\n",
    "    s = 0\n",
    "    for i in L:\n",
    "        s = s+i\n",
    "    return s\n",
    "\n",
    "def funv2(L):\n",
    "    return sum(L)\n",
    "\n",
    "import functools\n",
    "def funv3(L):\n",
    "    return functools.reduce(lambda i, j:i+j, L)\n",
    "\n",
    "l = [11, 22, 33, 44]\n",
    "print(funv1(l))    \n",
    "print(funv2(l))    \n",
    "print(funv3(l))    "
   ]
  },
  {
   "cell_type": "code",
   "execution_count": 8,
   "metadata": {},
   "outputs": [
    {
     "name": "stdout",
     "output_type": "stream",
     "text": [
      "Max value by using version1: 4\n",
      "Max value by using version2: 4\n",
      "Max value by using version3: 4\n",
      "Max value by using version4: 4\n",
      "Max value by using version5: 4\n"
     ]
    }
   ],
   "source": [
    "def maxfun_version1(a, b):\n",
    "    return max(a, b)\n",
    "\n",
    "def maxfun_version2(a, b):\n",
    "    return a if a > b else b\n",
    "\n",
    "def maxfun_version3(a, b):\n",
    "    if a > b:\n",
    "        return a\n",
    "    else:\n",
    "        return b\n",
    "\n",
    "def maxfun_version4(a, b):\n",
    "    call = lambda a, b: a if a > b else b\n",
    "    return call(a, b)\n",
    "\n",
    "def maxfun_version5(a, b):\n",
    "    L = []\n",
    "    L.append(a)\n",
    "    L.append(b)\n",
    "    return max(L)\n",
    "\n",
    "a = int(input())\n",
    "b = int(input())\n",
    "print(\"Max value by using version1:\", maxfun_version1(a, b)) \n",
    "print(\"Max value by using version2:\", maxfun_version2(a, b)) \n",
    "print(\"Max value by using version3:\", maxfun_version3(a, b)) \n",
    "print(\"Max value by using version4:\", maxfun_version4(a, b)) \n",
    "print(\"Max value by using version5:\", maxfun_version5(a, b)) "
   ]
  },
  {
   "cell_type": "code",
   "execution_count": 1,
   "metadata": {},
   "outputs": [
    {
     "name": "stdout",
     "output_type": "stream",
     "text": [
      "0\t\t1\t\t1\t\t1\n",
      "1\t\t1\t\t1\t\t1\n",
      "2\t\t2\t\t2\t\t2\n",
      "3\t\t6\t\t6\t\t6\n",
      "4\t\t24\t\t24\t\t24\n",
      "5\t\t120\t\t120\t\t120\n",
      "6\t\t720\t\t720\t\t720\n",
      "7\t\t5040\t\t5040\t\t5040\n",
      "8\t\t40320\t\t40320\t\t40320\n",
      "9\t\t362880\t\t362880\t\t362880\n",
      "10\t\t3628800\t\t3628800\t\t3628800\n"
     ]
    }
   ],
   "source": [
    "# Ex13: WPP to find factorial of the given number\n",
    "\n",
    "# Logic 1: Using While Loop\n",
    "def factorial_logic1(n):\n",
    "    f = 1\n",
    "    i = 1\n",
    "    while i <= n:\n",
    "        f = f * i\n",
    "        i = i + 1\n",
    "    return f\n",
    "\n",
    "# Logic 2: Using Recursion\n",
    "def factorial_logic2(n):\n",
    "    if n == 0:\n",
    "        return 1\n",
    "    else:\n",
    "        return n * factorial_logic2(n - 1)\n",
    "\n",
    "# Logic 3: Using Predefined Functions\n",
    "import math\n",
    "def factorial_logic3(n):\n",
    "    return math.factorial(n)\n",
    "\n",
    "# Main Code\n",
    "for i in range(10 + 1):\n",
    "    print(i, factorial_logic1(i), factorial_logic2(i), factorial_logic3(i), sep='\\t\\t')"
   ]
  },
  {
   "cell_type": "code",
   "execution_count": 2,
   "metadata": {},
   "outputs": [
    {
     "name": "stdout",
     "output_type": "stream",
     "text": [
      "i=2\tTrue\tTrue\n",
      "i=3\tTrue\tTrue\n",
      "i=4\tFalse\tFalse\n",
      "i=5\tTrue\tTrue\n",
      "i=6\tFalse\tFalse\n",
      "i=7\tTrue\tTrue\n",
      "i=8\tFalse\tFalse\n",
      "i=9\tFalse\tFalse\n",
      "i=10\tFalse\tFalse\n"
     ]
    }
   ],
   "source": [
    "# Ex14: WPP to check whether the given number is prime or not\n",
    "\n",
    "# Logic 1: By Using Loops\n",
    "def isprime1(n):\n",
    "    factors = 0\n",
    "    for i in range(1, n + 1):\n",
    "        if n % i == 0:\n",
    "            factors = factors + 1\n",
    "    return factors == 2\n",
    "\n",
    "# Logic 2: By Using Recursion\n",
    "def isprime2(n, i):\n",
    "    if i == 1:\n",
    "        return True\n",
    "    elif n % i == 0:\n",
    "        return False\n",
    "    else:\n",
    "        i = i - 1\n",
    "        return isprime2(n, i)\n",
    "\n",
    "# Main Code\n",
    "for i in range(2, 11):\n",
    "    print(f\"i={i}\\t{isprime1(i)}\\t{isprime2(i, i // 2)}\")\n"
   ]
  },
  {
   "cell_type": "code",
   "execution_count": null,
   "metadata": {},
   "outputs": [],
   "source": []
  }
 ],
 "metadata": {
  "kernelspec": {
   "display_name": "Python 3",
   "language": "python",
   "name": "python3"
  },
  "language_info": {
   "codemirror_mode": {
    "name": "ipython",
    "version": 3
   },
   "file_extension": ".py",
   "mimetype": "text/x-python",
   "name": "python",
   "nbconvert_exporter": "python",
   "pygments_lexer": "ipython3",
   "version": "3.12.7"
  }
 },
 "nbformat": 4,
 "nbformat_minor": 2
}
