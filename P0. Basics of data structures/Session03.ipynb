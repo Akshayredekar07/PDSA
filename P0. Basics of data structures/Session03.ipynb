{
 "cells": [
  {
   "cell_type": "code",
   "execution_count": 7,
   "metadata": {},
   "outputs": [
    {
     "name": "stdout",
     "output_type": "stream",
     "text": [
      "110\n",
      "110\n",
      "110\n"
     ]
    }
   ],
   "source": [
    "def funv1(L):\n",
    "    s = 0\n",
    "    for i in L:\n",
    "        s = s+i\n",
    "    return s\n",
    "\n",
    "def funv2(L):\n",
    "    return sum(L)\n",
    "\n",
    "import functools\n",
    "def funv3(L):\n",
    "    return functools.reduce(lambda i, j:i+j, L)\n",
    "\n",
    "l = [11, 22, 33, 44]\n",
    "print(funv1(l))    \n",
    "print(funv2(l))    \n",
    "print(funv3(l))    "
   ]
  },
  {
   "cell_type": "code",
   "execution_count": 8,
   "metadata": {},
   "outputs": [
    {
     "name": "stdout",
     "output_type": "stream",
     "text": [
      "Max value by using version1: 4\n",
      "Max value by using version2: 4\n",
      "Max value by using version3: 4\n",
      "Max value by using version4: 4\n",
      "Max value by using version5: 4\n"
     ]
    }
   ],
   "source": [
    "def maxfun_version1(a, b):\n",
    "    return max(a, b)\n",
    "\n",
    "def maxfun_version2(a, b):\n",
    "    return a if a > b else b\n",
    "\n",
    "def maxfun_version3(a, b):\n",
    "    if a > b:\n",
    "        return a\n",
    "    else:\n",
    "        return b\n",
    "\n",
    "def maxfun_version4(a, b):\n",
    "    call = lambda a, b: a if a > b else b\n",
    "    return call(a, b)\n",
    "\n",
    "def maxfun_version5(a, b):\n",
    "    L = []\n",
    "    L.append(a)\n",
    "    L.append(b)\n",
    "    return max(L)\n",
    "\n",
    "a = int(input())\n",
    "b = int(input())\n",
    "print(\"Max value by using version1:\", maxfun_version1(a, b)) \n",
    "print(\"Max value by using version2:\", maxfun_version2(a, b)) \n",
    "print(\"Max value by using version3:\", maxfun_version3(a, b)) \n",
    "print(\"Max value by using version4:\", maxfun_version4(a, b)) \n",
    "print(\"Max value by using version5:\", maxfun_version5(a, b)) "
   ]
  },
  {
   "cell_type": "code",
   "execution_count": null,
   "metadata": {},
   "outputs": [],
   "source": []
  }
 ],
 "metadata": {
  "kernelspec": {
   "display_name": "Python 3",
   "language": "python",
   "name": "python3"
  },
  "language_info": {
   "codemirror_mode": {
    "name": "ipython",
    "version": 3
   },
   "file_extension": ".py",
   "mimetype": "text/x-python",
   "name": "python",
   "nbconvert_exporter": "python",
   "pygments_lexer": "ipython3",
   "version": "3.12.7"
  }
 },
 "nbformat": 4,
 "nbformat_minor": 2
}
