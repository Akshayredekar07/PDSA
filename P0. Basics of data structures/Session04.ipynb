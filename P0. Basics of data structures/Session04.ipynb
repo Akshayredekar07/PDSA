{
 "cells": [
  {
   "cell_type": "code",
   "execution_count": 2,
   "metadata": {},
   "outputs": [
    {
     "name": "stdout",
     "output_type": "stream",
     "text": [
      "5\n",
      "8\n",
      "7\n"
     ]
    }
   ],
   "source": [
    "n = int(input(\"Enter any number: \"))\n",
    "while n != 0:\n",
    "    d = n % 10\n",
    "    print(d)\n",
    "    n = n // 10"
   ]
  },
  {
   "cell_type": "code",
   "execution_count": 3,
   "metadata": {},
   "outputs": [
    {
     "name": "stdout",
     "output_type": "stream",
     "text": [
      "0\n"
     ]
    }
   ],
   "source": [
    "sum = 0\n",
    "while n != 0:\n",
    "    d = n % 10\n",
    "    sum = sum + d\n",
    "    n = n // 10\n",
    "print(sum)\n"
   ]
  },
  {
   "cell_type": "code",
   "execution_count": 5,
   "metadata": {},
   "outputs": [],
   "source": [
    "# print(sum([int(i) for i in str(n)]))"
   ]
  },
  {
   "cell_type": "code",
   "execution_count": 6,
   "metadata": {},
   "outputs": [],
   "source": [
    "# approach 3\n",
    "def sumofdigits_v1(n):\n",
    "    s = 0\n",
    "    while n != 0:\n",
    "        d = n % 10\n",
    "        s = s + d\n",
    "        n = n // 10\n",
    "    return s\n",
    "\n",
    "def sumofdigits_v2(n):\n",
    "    return sum([int(i) for i in str(n)])"
   ]
  },
  {
   "cell_type": "code",
   "execution_count": 8,
   "metadata": {},
   "outputs": [],
   "source": [
    "# n = int(input(\"Enter any number: \"))\n",
    "# print(f'Sum of digits present in {n} is {sumofdigits_v1(n)}')\n",
    "# print(f'Sum of digits present in {n} is {sumofdigits_v2(n)}')"
   ]
  },
  {
   "cell_type": "code",
   "execution_count": 9,
   "metadata": {},
   "outputs": [
    {
     "name": "stdout",
     "output_type": "stream",
     "text": [
      "Reverse of 4567 using logic1 is 7654\n",
      "Reverse of 4567 using logic2 is 7654\n"
     ]
    }
   ],
   "source": [
    "# Function to reverse a number using digit extraction\n",
    "def reverse_v1(n):\n",
    "    r = 0\n",
    "    while n != 0:\n",
    "        d = n % 10  # Extract the last digit\n",
    "        r = r * 10 + d  # Append the digit to the reversed number\n",
    "        n = n // 10  # Remove the last digit\n",
    "    return r\n",
    "\n",
    "# Function to reverse a number using string slicing\n",
    "def reverse_v2(n):\n",
    "    return int(str(n)[::-1])  # Convert the number to string, reverse it, then convert back to int\n",
    "\n",
    "# Main program\n",
    "n = int(input(\"Enter any number: \"))\n",
    "print(f\"Reverse of {n} using logic1 is {reverse_v1(n)}\")\n",
    "print(f\"Reverse of {n} using logic2 is {reverse_v2(n)}\")\n"
   ]
  },
  {
   "cell_type": "code",
   "execution_count": 11,
   "metadata": {},
   "outputs": [
    {
     "name": "stdout",
     "output_type": "stream",
     "text": [
      "Is 121 a palindrome (logic1)? True\n",
      "Is 121 a palindrome (logic2)? True\n"
     ]
    }
   ],
   "source": [
    "# Function to check if a number is a palindrome using digit extraction\n",
    "def ispali_v1(n):\n",
    "    temp = n  # Store the original number\n",
    "    r = 0\n",
    "    while n != 0:\n",
    "        d = n % 10  # Extract the last digit\n",
    "        r = r * 10 + d  # Append the digit to the reversed number\n",
    "        n = n // 10  # Remove the last digit\n",
    "    return r == temp  # Compare the reversed number with the original\n",
    "\n",
    "\n",
    "def ispali_v1(n):\n",
    "    r, temp = 0, n  # Initialize reversed number and store original number\n",
    "    while n:\n",
    "        r = r * 10 + n % 10  # Extract and append digit\n",
    "        n //= 10  # Remove last digit\n",
    "    return r == temp  # Check if reversed number equals original\n",
    "\n",
    "\n",
    "# Function to check if a number is a palindrome using string manipulation\n",
    "def ispali_v2(n):\n",
    "    s = str(n)  # Convert the number to a string\n",
    "    return s == s[::-1]  # Check if the string is equal to its reverse\n",
    "\n",
    "# Main program\n",
    "n = int(input(\"Enter any number: \"))\n",
    "print(f\"Is {n} a palindrome (logic1)? {ispali_v1(n)}\")\n",
    "print(f\"Is {n} a palindrome (logic2)? {ispali_v2(n)}\")\n"
   ]
  },
  {
   "cell_type": "code",
   "execution_count": null,
   "metadata": {},
   "outputs": [],
   "source": []
  }
 ],
 "metadata": {
  "kernelspec": {
   "display_name": "Python 3",
   "language": "python",
   "name": "python3"
  },
  "language_info": {
   "codemirror_mode": {
    "name": "ipython",
    "version": 3
   },
   "file_extension": ".py",
   "mimetype": "text/x-python",
   "name": "python",
   "nbconvert_exporter": "python",
   "pygments_lexer": "ipython3",
   "version": "3.12.7"
  }
 },
 "nbformat": 4,
 "nbformat_minor": 2
}
