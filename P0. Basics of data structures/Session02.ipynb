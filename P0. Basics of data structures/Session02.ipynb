{
 "cells": [
  {
   "cell_type": "code",
   "execution_count": 1,
   "metadata": {},
   "outputs": [
    {
     "name": "stdout",
     "output_type": "stream",
     "text": [
      "prakash BaBu\n",
      "PrAkAsH BaBu\n"
     ]
    }
   ],
   "source": [
    "def myfun(s):\n",
    "    l = list(s.lower())\n",
    "    for i in range(len(l)):\n",
    "        if i % 2 == 0:\n",
    "            l[i] = l[i].upper()\n",
    "    return ''.join(l)\n",
    "\n",
    "s = \"prakash BaBu\"\n",
    "print(s)          # prakash BaBu\n",
    "print(myfun(s))   # PrAkAsH BaBu"
   ]
  },
  {
   "cell_type": "code",
   "execution_count": 2,
   "metadata": {},
   "outputs": [
    {
     "name": "stdout",
     "output_type": "stream",
     "text": [
      "prakash BaBu\n",
      "pRaKaSh bAbU\n"
     ]
    }
   ],
   "source": [
    "def myfun(s):\n",
    "    l = list(s.lower())\n",
    "    for i in range(len(l)):\n",
    "        if i % 2 != 0:\n",
    "            l[i] = l[i].upper()\n",
    "    return ''.join(l)\n",
    "\n",
    "s = \"prakash BaBu\"\n",
    "print(s)          # prakash BaBu\n",
    "print(myfun(s))   # pRaKaSh bAbU"
   ]
  },
  {
   "cell_type": "code",
   "execution_count": null,
   "metadata": {},
   "outputs": [],
   "source": []
  }
 ],
 "metadata": {
  "kernelspec": {
   "display_name": "Python 3",
   "language": "python",
   "name": "python3"
  },
  "language_info": {
   "codemirror_mode": {
    "name": "ipython",
    "version": 3
   },
   "file_extension": ".py",
   "mimetype": "text/x-python",
   "name": "python",
   "nbconvert_exporter": "python",
   "pygments_lexer": "ipython3",
   "version": "3.12.7"
  }
 },
 "nbformat": 4,
 "nbformat_minor": 2
}
